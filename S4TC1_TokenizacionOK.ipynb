{
 "cells": [
  {
   "cell_type": "markdown",
   "metadata": {},
   "source": [
    "![image info](https://raw.githubusercontent.com/albahnsen/MIAD_ML_and_NLP/main/images/banner_1.png)"
   ]
  },
  {
   "cell_type": "markdown",
   "metadata": {},
   "source": [
    "# Taller: Tokenización de textos  \n",
    "\n",
    "En este taller podrán poner en práctica sus conocimientos sobre preprocesamiento de texto (tokenización). El taller está constituido por 5 puntos, en los cuales deberan seguir las intrucciones de cada numeral para su desarrollo."
   ]
  },
  {
   "cell_type": "markdown",
   "metadata": {},
   "source": [
    "## Datos detección de toxicidad en comentarios\n",
    "\n",
    "En este taller se usará el conjunto de datos de detección de toxicidad en comentarios de la base de datos de Kaggle. Cada observación es un comentario que tiene como variable objetivo (target) la probabilidad de ser un comentario tóxico. El objetivo es predecir la toxicidad de cada comentario. Para más detalles pueden visitar el siguiente enlace: [datos](https://www.kaggle.com/c/jigsaw-unintended-bias-in-toxicity-classification/data)."
   ]
  },
  {
   "cell_type": "code",
   "execution_count": 1,
   "metadata": {},
   "outputs": [],
   "source": [
    "import warnings\n",
    "warnings.filterwarnings('ignore')"
   ]
  },
  {
   "cell_type": "code",
   "execution_count": 20,
   "metadata": {},
   "outputs": [],
   "source": [
    "# Importación librerías\n",
    "import pandas as pd\n",
    "import numpy as np\n",
    "import scipy as sp\n",
    "from sklearn.model_selection import train_test_split, cross_val_score\n",
    "from sklearn.feature_extraction.text import CountVectorizer, TfidfVectorizer\n",
    "from sklearn import metrics\n",
    "from xgboost import XGBRegressor\n",
    "from sklearn.ensemble import BaggingRegressor\n",
    "from sklearn.tree import DecisionTreeRegressor\n",
    "from sklearn.linear_model import LogisticRegression\n",
    "from sklearn.ensemble import RandomForestRegressor\n",
    "from sklearn.metrics import mean_squared_error, mean_absolute_error\n",
    "import matplotlib.pyplot as plt\n",
    "%matplotlib inline"
   ]
  },
  {
   "cell_type": "code",
   "execution_count": 3,
   "metadata": {},
   "outputs": [
    {
     "data": {
      "text/html": [
       "<div>\n",
       "<style scoped>\n",
       "    .dataframe tbody tr th:only-of-type {\n",
       "        vertical-align: middle;\n",
       "    }\n",
       "\n",
       "    .dataframe tbody tr th {\n",
       "        vertical-align: top;\n",
       "    }\n",
       "\n",
       "    .dataframe thead th {\n",
       "        text-align: right;\n",
       "    }\n",
       "</style>\n",
       "<table border=\"1\" class=\"dataframe\">\n",
       "  <thead>\n",
       "    <tr style=\"text-align: right;\">\n",
       "      <th></th>\n",
       "      <th>id</th>\n",
       "      <th>comment_text</th>\n",
       "      <th>target</th>\n",
       "    </tr>\n",
       "  </thead>\n",
       "  <tbody>\n",
       "    <tr>\n",
       "      <th>0</th>\n",
       "      <td>6101457</td>\n",
       "      <td>What are you talking about? What group do Pete...</td>\n",
       "      <td>0.0</td>\n",
       "    </tr>\n",
       "    <tr>\n",
       "      <th>1</th>\n",
       "      <td>5342103</td>\n",
       "      <td>NO!, Let him, we need a Conservative government.</td>\n",
       "      <td>0.0</td>\n",
       "    </tr>\n",
       "    <tr>\n",
       "      <th>2</th>\n",
       "      <td>743361</td>\n",
       "      <td>Perhaps he took the \"power out of the Cardinal...</td>\n",
       "      <td>0.2</td>\n",
       "    </tr>\n",
       "    <tr>\n",
       "      <th>3</th>\n",
       "      <td>551008</td>\n",
       "      <td>As always, yours is dripping with sarcasm, whi...</td>\n",
       "      <td>0.0</td>\n",
       "    </tr>\n",
       "    <tr>\n",
       "      <th>4</th>\n",
       "      <td>865998</td>\n",
       "      <td>The dirty little secret is that the price rang...</td>\n",
       "      <td>0.3</td>\n",
       "    </tr>\n",
       "  </tbody>\n",
       "</table>\n",
       "</div>"
      ],
      "text/plain": [
       "        id                                       comment_text  target\n",
       "0  6101457  What are you talking about? What group do Pete...     0.0\n",
       "1  5342103   NO!, Let him, we need a Conservative government.     0.0\n",
       "2   743361  Perhaps he took the \"power out of the Cardinal...     0.2\n",
       "3   551008  As always, yours is dripping with sarcasm, whi...     0.0\n",
       "4   865998  The dirty little secret is that the price rang...     0.3"
      ]
     },
     "execution_count": 3,
     "metadata": {},
     "output_type": "execute_result"
    }
   ],
   "source": [
    "# Carga de datos de archivos .csv\n",
    "df = pd.read_csv('https://raw.githubusercontent.com/albahnsen/MIAD_ML_and_NLP/main/datasets/Toxicity.zip')\n",
    "df = df[['id','comment_text', 'target']]\n",
    "df.head()"
   ]
  },
  {
   "cell_type": "code",
   "execution_count": 4,
   "metadata": {},
   "outputs": [
    {
     "data": {
      "text/plain": [
       "(541462, 3)"
      ]
     },
     "execution_count": 4,
     "metadata": {},
     "output_type": "execute_result"
    }
   ],
   "source": [
    "df.shape"
   ]
  },
  {
   "cell_type": "code",
   "execution_count": 5,
   "metadata": {},
   "outputs": [
    {
     "data": {
      "text/plain": [
       "<AxesSubplot:>"
      ]
     },
     "execution_count": 5,
     "metadata": {},
     "output_type": "execute_result"
    },
    {
     "data": {
      "image/png": "[encoded data removed]",
      "text/plain": [
       "<Figure size 640x480 with 1 Axes>"
      ]
     },
     "metadata": {},
     "output_type": "display_data"
    }
   ],
   "source": [
    "# Impresión histograma de variable de interés (y)\n",
    "df.target.hist()"
   ]
  },
  {
   "cell_type": "code",
   "execution_count": 6,
   "metadata": {},
   "outputs": [
    {
     "data": {
      "text/plain": [
       "count    541462.000000\n",
       "mean          0.102991\n",
       "std           0.196979\n",
       "min           0.000000\n",
       "25%           0.000000\n",
       "50%           0.000000\n",
       "75%           0.166667\n",
       "max           1.000000\n",
       "Name: target, dtype: float64"
      ]
     },
     "execution_count": 6,
     "metadata": {},
     "output_type": "execute_result"
    }
   ],
   "source": [
    "# Separación de variable de interés (y)\n",
    "y = df.target\n",
    "y.describe()"
   ]
  },
  {
   "cell_type": "code",
   "execution_count": 7,
   "metadata": {},
   "outputs": [],
   "source": [
    "# Separación de variables predictoras (X), solo se considera el texto de la noticia\n",
    "X = df.comment_text"
   ]
  },
  {
   "cell_type": "code",
   "execution_count": 8,
   "metadata": {},
   "outputs": [],
   "source": [
    "# Separación de datos en set de entrenamiento y test\n",
    "X_train, X_test, y_train, y_test = train_test_split(X, y, test_size=0.33, random_state=42)"
   ]
  },
  {
   "cell_type": "markdown",
   "metadata": {},
   "source": [
    "## Punto 1 - Tokenización con CountVectorizer\n",
    "\n",
    "En la celda 1 creen y entrenen el modelo de regresión de su preferencia, para que prediga la probabilidad de que un comentario sea tóxico, usando los set de entrenamiento y test definidos anteriormente. Usen la función **CountVectorizer** para preprocesar los comentarios y presenten el desempeño del modelo con la métrica del MSE.\n",
    "\n",
    "Recuerden que el preprocesamiento que se haga sobre los datos de entrenamiento  (*.fit_transform()*) deben ser aplicado al set de test (*.transform()*)."
   ]
  },
  {
   "cell_type": "code",
   "execution_count": 9,
   "metadata": {},
   "outputs": [
    {
     "name": "stdout",
     "output_type": "stream",
     "text": [
      "RMSE el modelo XGBoost sin calibrar 0.14741022130681447\n",
      "MAE del modelo XGBoost sin calibrar 0.10485978166273424\n"
     ]
    }
   ],
   "source": [
    "# Celda 1\n",
    "\n",
    "vect_C = CountVectorizer(lowercase=False)\n",
    "X_dtm_C = vect_C.fit_transform(X_train)\n",
    "X_test1 = vect_C.transform(X_test)\n",
    "\n",
    "regXGBoost = XGBRegressor()\n",
    "regXGBoost.fit(X_dtm_C, y_train)\n",
    "y_pred_regXGBoost = regXGBoost.predict(X_test1)\n",
    "\n",
    "mse_regXGBoost = np.sqrt(mean_squared_error(y_test, y_pred_regXGBoost))\n",
    "mae_regXGBoost = mean_absolute_error(y_test, y_pred_regXGBoost)\n",
    "\n",
    "print(\"RMSE el modelo XGBoost sin calibrar\", mse_regXGBoost)\n",
    "print(\"MAE del modelo XGBoost sin calibrar\", mae_regXGBoost)"
   ]
  },
  {
   "cell_type": "markdown",
   "metadata": {},
   "source": [
    "## Punto 2 - Tokenización con CountVectorizer y trigramas\n",
    "\n",
    "En la celda 2 creen y entrenen el mismo modelo de regresión del punto anterior (es decir si usaron un RandomForestRegresor usen nuevamente ese regresor), para que prediga la probabilidad de que un comentario sea tóxico, usando los set de entrenamiento y test definidos anteriormente. Usen la función CountVectorizer **considerando trigramas** para preprocesar los comentarios y presenten el desempeño del modelo con la métrica del MSE.\n",
    "\n",
    "Recuerden que el preprocesamiento que se haga sobre los datos de entrenamiento  (*.fit_transform()*) deben ser aplicado al set de test (*.transform()*)."
   ]
  },
  {
   "cell_type": "code",
   "execution_count": 19,
   "metadata": {},
   "outputs": [
    {
     "name": "stdout",
     "output_type": "stream",
     "text": [
      "RMSE el modelo XGBoost sin calibrar 0.19216090994576152\n",
      "MAE del modelo XGBoost sin calibrar 0.14079352601887393\n"
     ]
    }
   ],
   "source": [
    "# Celda 2\n",
    "\n",
    "vect_2 = CountVectorizer(lowercase=False, ngram_range=(3, 3))\n",
    "X_dtm_2 = vect_2.fit_transform(X_train)\n",
    "X_test2 = vect_2.transform(X_test)\n",
    "\n",
    "rf = XGBRegressor()\n",
    "rf.fit(X_dtm_2, y_train)\n",
    "y_pred_rf = rf.predict(X_test2)\n",
    "\n",
    "mse_XGB = np.sqrt(mean_squared_error(y_test, y_pred_rf))\n",
    "mae_XGB = mean_absolute_error(y_test, y_pred_rf)\n",
    "\n",
    "print(\"RMSE el modelo XGBoost sin calibrar\", mse_XGB)\n",
    "print(\"MAE del modelo XGBoost sin calibrar\", mae_XGB)"
   ]
  },
  {
   "cell_type": "markdown",
   "metadata": {},
   "source": [
    "## Punto 3 - TfidfVectorizer\n",
    "\n",
    "Investigen sobre la función TfidfVectorizer. En la celda de texto 3, expliquen en qué consiste esta técnica de tokenización (describanla y expliquen su funcionamiento) y cúales son las ventajas o deventajas de su uso al compararlo con la función CountVectorizer."
   ]
  },
  {
   "cell_type": "markdown",
   "metadata": {},
   "source": [
    "#### TfidfVectorizer\n",
    "El TfidfVectorizer, es la abreviatura de \"Term Frequency-Inverse Document Frequency Vectorizer\", es una técnica de tokenización utilizada en el procesamiento de lenguaje natural (NLP). Esta técnica se centra en asignar pesos a cada término (token) en un documento según su importancia relativa en el corpus de documentos.\n",
    "\n",
    "Funcionamiento:\n",
    "\n",
    "* Frecuencia de término (TF - Term Frequency): Mide la frecuencia con la que aparece un término en un documento específico. Se calcula dividiendo el número de veces que aparece un término en un documento por el número total de términos en ese documento.\n",
    "* Frecuencia inversa de documento (IDF - Inverse Document Frequency): es una fórmula que contabiliza el número de veces que se usa una palabra X en un conjunto de documentos (generalmente una base de datos) y, además, calcula su relevancia dentro de este conjunto.\n",
    "* TF-IDF: Es un cálculo estadístico para medir qué términos son más relevantes para un documento, analizando la frecuencia con que aparecen en una página, en comparación con su frecuencia en un conjunto más grande de páginas.\n",
    "\n",
    "Ventajas:\n",
    "\n",
    "* Teniendo en cuenta la importancia relativa: TF-IDF considera la importancia relativa de los términos en conjunto general, lo que lo hace más adecuado para la representación de documentos donde algunos términos son más relevantes que otros.\n",
    "* Reduce el impacto de términos comunes: Los términos comunes que aparecen en muchos documentos tienden a tener un peso más bajo en TF-IDF en comparación con CountVectorizer, lo que puede ayudar a reducir el ruido en la representación de los documentos.\n",
    "\n",
    "Desventajas:\n",
    "\n",
    "* Requiere mayor poder computacional: El cálculo de IDF implica procesar todos los documentos para determinar la importancia de cada término, lo que puede ser computacionalmente costoso para grandes conjuntos de datos.\n",
    "* Menos interpretable: Aunque TF-IDF puede mejorar la representación de documentos en términos de relevancia de términos, la interpretación de los pesos resultantes puede ser más complicada que con CountVectorizer, donde simplemente se cuentan las ocurrencias de términos.\n",
    "En resumen, TfidfVectorizer es útil cuando se busca una representación más refinada de los documentos, especialmente en casos donde la frecuencia de términos comunes puede no ser relevante. Sin embargo, puede requerir más recursos computacionales y puede ser menos intuitivo de interpretar en comparación con CountVectorizer.\n",
    "\n",
    "\n",
    "https://medium.com/@cmukesh8688/tf-idf-vectorizer-scikit-learn-dbc0244a911a\n",
    "\n",
    "https://pypi.org/project/tfIdfInheritVectorizer/\n"
   ]
  },
  {
   "cell_type": "markdown",
   "metadata": {},
   "source": [
    "## Punto 4 - Tokenización con TfidfVectorizer\n",
    "\n",
    "En la celda 4 creen y entrenen el mismo modelo de regresión del primer punto, para que prediga la probabilidad de que un comentario sea tóxico, usando los set de entrenamiento y test definidos anteriormente. Procesen los comentarios con la función **TfidfVectorizer** y presenten el desempeño del modelo con la métrica del MSE.\n",
    "\n",
    "Recuerden que el preprocesamiento que se haga sobre los datos de entrenamiento  (*.fit_transform()*) deben ser aplicado al set de test (*.transform()*)."
   ]
  },
  {
   "cell_type": "code",
   "execution_count": 18,
   "metadata": {},
   "outputs": [
    {
     "name": "stdout",
     "output_type": "stream",
     "text": [
      "RMSE del modelo XGBoost con TfidfVectorizer: 0.146398601448339\n",
      "MAE del modelo XGBoost sin calibrar 0.1044315848930397\n"
     ]
    }
   ],
   "source": [
    "\n",
    "vect_Tfidf = TfidfVectorizer(lowercase=False)\n",
    "X_train_dtm_Tfidf = vect_Tfidf.fit_transform(X_train)\n",
    "X_test_dtm_Tfidf = vect_Tfidf.transform(X_test)\n",
    "\n",
    "regXGBoost_Tfidf = XGBRegressor()\n",
    "regXGBoost_Tfidf.fit(X_train_dtm_Tfidf, y_train)\n",
    "\n",
    "# Predicción sobre el set de test\n",
    "y_pred_regXGBoost_Tfidf = regXGBoost_Tfidf.predict(X_test_dtm_Tfidf)\n",
    "\n",
    "# Cálculo del error cuadrático medio (MSE)\n",
    "mse_regXGBoost_Tfidf = np.sqrt(mean_squared_error(y_test, y_pred_regXGBoost_Tfidf))\n",
    "mae_regXGBoost_Tfidf = mean_absolute_error(y_test, y_pred_regXGBoost_Tfidf)\n",
    "\n",
    "print(\"RMSE del modelo XGBoost con TfidfVectorizer:\", mse_regXGBoost_Tfidf)\n",
    "print(\"MAE del modelo XGBoost sin calibrar\", mae_regXGBoost_Tfidf)"
   ]
  },
  {
   "cell_type": "markdown",
   "metadata": {},
   "source": [
    "## Punto 5 - Comparación y análisis de resultados\n",
    "\n",
    "En la celda 5 comparen los resultados obtenidos de los diferentes modelos y comenten cómo el preprocesamiento de texto afecta el desempeño."
   ]
  },
  {
   "cell_type": "code",
   "execution_count": 25,
   "metadata": {},
   "outputs": [
    {
     "data": {
      "image/png": "[encoded data removed]",
      "text/plain": [
       "<Figure size 1000x400 with 1 Axes>"
      ]
     },
     "metadata": {},
     "output_type": "display_data"
    }
   ],
   "source": [
    "# Comparar las evaluaciones de poder predictivo de los diferentes modelos\n",
    "medidas = [ 'RMSE', 'MAE']\n",
    "modelos = {\n",
    "    'CountVectorizer':[mse_regXGBoost, mae_regXGBoost],\n",
    "    'CountVectorizer y trigramas':[mse_XGB, mae_XGB],\n",
    "    'TfidfVectorizer':[mse_regXGBoost_Tfidf, mae_regXGBoost_Tfidf],\n",
    "}\n",
    "\n",
    "# Formato de colores para las barras\n",
    "colores_modelos = ['#5B98A6', '#A0CED9', '#D0ECF2']\n",
    "\n",
    "# Configuración de las dimensiones de figura\n",
    "fig, ax = plt.subplots(figsize=(10, 4))\n",
    "bar_width = 0.1\n",
    "index = np.arange(len(medidas))\n",
    "\n",
    "# Graficamos las barras con el valor obtenido en cada modelo para las medidas, redondeado a 2 cifras decimales las etiquetas\n",
    "for i, (nombre_modelo, valores) in enumerate(modelos.items()):\n",
    "    etiquetas = [f'{round(valor, 2):.2f}' for valor in valores]  # Redondear valores a 2 decimales y convertir a cadena\n",
    "    ax.bar(index + i * bar_width, valores, bar_width, label=nombre_modelo, color=colores_modelos[i % len(colores_modelos)])\n",
    "    for j, etiqueta in enumerate(etiquetas):\n",
    "        ax.text(index[j] + i * bar_width, valores[j] + 0.01, etiqueta, ha='center', va='bottom')\n",
    "\n",
    "# Ajustes de la figura\n",
    "ax.set_xlabel('')\n",
    "ax.set_ylabel('Valor')\n",
    "ax.set_title('Medidas de desempeño por modelo')\n",
    "ax.set_xticks(index + (len(modelos) - 1) * bar_width / 2)\n",
    "ax.set_xticklabels(medidas)\n",
    "plt.legend(bbox_to_anchor=(1, 1), loc='upper left')\n",
    "\n",
    "# Mostrar el gráfico\n",
    "plt.tight_layout()\n",
    "plt.show()"
   ]
  },
  {
   "cell_type": "markdown",
   "metadata": {},
   "source": [
    "### Conclusiones\n",
    "\n",
    "* CountVectorizer y TfidfVectorizer muestran resultados similares tanto en RMSE como en MAE, lo que indica que ambos enfoques de vectorización de texto tienen un rendimiento comparable en la predicción de la probabilidad de toxicidad en los comentarios.\n",
    "\n",
    "* La inclusión de trigramas en el CountVectorizer parece aumentar el error tanto en RMSE como en MAE en comparación con el CountVectorizer sin trigramas. Esto sugiere que la adición de trigramas no proporciona una mejora significativa en la capacidad predictiva del modelo.\n",
    "\n",
    "* El hecho de que tanto CountVectorizer como TfidfVectorizer tengan resultados similares sugiere que, para este conjunto de datos y este modelo en particular (XGBoost), el tipo de vectorización de texto utilizado puede no tener un impacto significativo en el rendimiento del modelo.\n",
    "\n",
    "* Los valores de RMSE y MAE son relativamente bajos en todos los casos, lo que indica que el modelo de regresión (XGBoost) tiene una buena capacidad para predecir la probabilidad de toxicidad en los comentarios."
   ]
  },
  {
   "cell_type": "code",
   "execution_count": null,
   "metadata": {},
   "outputs": [],
   "source": []
  }
 ],
 "metadata": {
  "kernelspec": {
   "display_name": "Python 3 (ipykernel)",
   "language": "python",
   "name": "python3"
  },
  "language_info": {
   "codemirror_mode": {
    "name": "ipython",
    "version": 3
   },
   "file_extension": ".py",
   "mimetype": "text/x-python",
   "name": "python",
   "nbconvert_exporter": "python",
   "pygments_lexer": "ipython3",
   "version": "3.9.13"
  },
  "name": "_merged"
 },
 "nbformat": 4,
 "nbformat_minor": 4
}
